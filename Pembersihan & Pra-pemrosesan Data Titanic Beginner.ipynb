{
 "cells": [
  {
   "cell_type": "markdown",
   "id": "ad4b59a4-c677-450b-82cb-6dfb7bf4db70",
   "metadata": {},
   "source": [
    "### *Pembersihan & Pra-pemrosesan Data Titanic Beginner*\n",
    "#### Proyek tantangan untuk mengaplikasikan skill Python, Pandas\n",
    "#### Nama: Salsabila Putri Halimi | https://github.com/putrihalimi | IG:@salsabilaputrihalimi19"
   ]
  },
  {
   "cell_type": "markdown",
   "id": "e8e2a23e-2523-44ab-bbe9-613f6e1a31f3",
   "metadata": {},
   "source": [
    "\"\"\"\n",
    "🚀 Latar Belakang & Konteks Proyek\n",
    "Proyek ini mensimulasikan tugas krusial pertama dalam siklus hidup sains data: pembersihan dan pra-pemrosesan data. Menggunakan dataset Titanic yang terkenal, Anda akan berlatih mengubah data mentah yang berantakan menjadi data bersih yang siap untuk analisis dan pemodelan. Dataset ini berisi informasi tentang penumpang kapal Titanic, seperti nama, usia, kelas kabin, dan yang terpenting, status kelangsungan hidup mereka. Proyek ini adalah portofolio yang sangat bagus karena menunjukkan kemampuan praktis Anda dalam menggunakan Python dan Pandas—dua pilar utama dalam ekosistem data science. Skill yang akan terbukti meliputi manipulasi DataFrame, penanganan nilai yang hilang (missing values), transformasi tipe data, dan feature engineering dasar.\n",
    "\"\"\""
   ]
  },
  {
   "cell_type": "code",
   "execution_count": 3,
   "id": "247d5517-dd5f-4fe7-8f6f-f4f824b4c92f",
   "metadata": {},
   "outputs": [
    {
     "name": "stdout",
     "output_type": "stream",
     "text": [
      "Requirement already satisfied: pandas in c:\\users\\agus soleh b khalimi\\anaconda3\\lib\\site-packages (2.2.2)\n",
      "Requirement already satisfied: numpy in c:\\users\\agus soleh b khalimi\\anaconda3\\lib\\site-packages (1.26.4)\n",
      "Requirement already satisfied: matplotlib in c:\\users\\agus soleh b khalimi\\anaconda3\\lib\\site-packages (3.9.2)\n",
      "Requirement already satisfied: seaborn in c:\\users\\agus soleh b khalimi\\anaconda3\\lib\\site-packages (0.13.2)\n",
      "Requirement already satisfied: jupyter in c:\\users\\agus soleh b khalimi\\anaconda3\\lib\\site-packages (1.0.0)\n",
      "Requirement already satisfied: python-dateutil>=2.8.2 in c:\\users\\agus soleh b khalimi\\anaconda3\\lib\\site-packages (from pandas) (2.9.0.post0)\n",
      "Requirement already satisfied: pytz>=2020.1 in c:\\users\\agus soleh b khalimi\\anaconda3\\lib\\site-packages (from pandas) (2024.1)\n",
      "Requirement already satisfied: tzdata>=2022.7 in c:\\users\\agus soleh b khalimi\\anaconda3\\lib\\site-packages (from pandas) (2023.3)\n",
      "Requirement already satisfied: contourpy>=1.0.1 in c:\\users\\agus soleh b khalimi\\anaconda3\\lib\\site-packages (from matplotlib) (1.2.0)\n",
      "Requirement already satisfied: cycler>=0.10 in c:\\users\\agus soleh b khalimi\\anaconda3\\lib\\site-packages (from matplotlib) (0.11.0)\n",
      "Requirement already satisfied: fonttools>=4.22.0 in c:\\users\\agus soleh b khalimi\\anaconda3\\lib\\site-packages (from matplotlib) (4.51.0)\n",
      "Requirement already satisfied: kiwisolver>=1.3.1 in c:\\users\\agus soleh b khalimi\\anaconda3\\lib\\site-packages (from matplotlib) (1.4.4)\n",
      "Requirement already satisfied: packaging>=20.0 in c:\\users\\agus soleh b khalimi\\anaconda3\\lib\\site-packages (from matplotlib) (24.1)\n",
      "Requirement already satisfied: pillow>=8 in c:\\users\\agus soleh b khalimi\\anaconda3\\lib\\site-packages (from matplotlib) (10.4.0)\n",
      "Requirement already satisfied: pyparsing>=2.3.1 in c:\\users\\agus soleh b khalimi\\anaconda3\\lib\\site-packages (from matplotlib) (3.1.2)\n",
      "Requirement already satisfied: notebook in c:\\users\\agus soleh b khalimi\\anaconda3\\lib\\site-packages (from jupyter) (7.2.2)\n",
      "Requirement already satisfied: qtconsole in c:\\users\\agus soleh b khalimi\\anaconda3\\lib\\site-packages (from jupyter) (5.5.1)\n",
      "Requirement already satisfied: jupyter-console in c:\\users\\agus soleh b khalimi\\anaconda3\\lib\\site-packages (from jupyter) (6.6.3)\n",
      "Requirement already satisfied: nbconvert in c:\\users\\agus soleh b khalimi\\anaconda3\\lib\\site-packages (from jupyter) (7.16.4)\n",
      "Requirement already satisfied: ipykernel in c:\\users\\agus soleh b khalimi\\anaconda3\\lib\\site-packages (from jupyter) (6.28.0)\n",
      "Requirement already satisfied: ipywidgets in c:\\users\\agus soleh b khalimi\\anaconda3\\lib\\site-packages (from jupyter) (7.8.1)\n",
      "Requirement already satisfied: six>=1.5 in c:\\users\\agus soleh b khalimi\\anaconda3\\lib\\site-packages (from python-dateutil>=2.8.2->pandas) (1.16.0)\n",
      "Requirement already satisfied: comm>=0.1.1 in c:\\users\\agus soleh b khalimi\\anaconda3\\lib\\site-packages (from ipykernel->jupyter) (0.2.1)\n",
      "Requirement already satisfied: debugpy>=1.6.5 in c:\\users\\agus soleh b khalimi\\anaconda3\\lib\\site-packages (from ipykernel->jupyter) (1.6.7)\n",
      "Requirement already satisfied: ipython>=7.23.1 in c:\\users\\agus soleh b khalimi\\anaconda3\\lib\\site-packages (from ipykernel->jupyter) (8.27.0)\n",
      "Requirement already satisfied: jupyter-client>=6.1.12 in c:\\users\\agus soleh b khalimi\\anaconda3\\lib\\site-packages (from ipykernel->jupyter) (8.6.0)\n",
      "Requirement already satisfied: jupyter-core!=5.0.*,>=4.12 in c:\\users\\agus soleh b khalimi\\anaconda3\\lib\\site-packages (from ipykernel->jupyter) (5.7.2)\n",
      "Requirement already satisfied: matplotlib-inline>=0.1 in c:\\users\\agus soleh b khalimi\\anaconda3\\lib\\site-packages (from ipykernel->jupyter) (0.1.6)\n",
      "Requirement already satisfied: nest-asyncio in c:\\users\\agus soleh b khalimi\\anaconda3\\lib\\site-packages (from ipykernel->jupyter) (1.6.0)\n",
      "Requirement already satisfied: psutil in c:\\users\\agus soleh b khalimi\\anaconda3\\lib\\site-packages (from ipykernel->jupyter) (5.9.0)\n",
      "Requirement already satisfied: pyzmq>=24 in c:\\users\\agus soleh b khalimi\\anaconda3\\lib\\site-packages (from ipykernel->jupyter) (25.1.2)\n",
      "Requirement already satisfied: tornado>=6.1 in c:\\users\\agus soleh b khalimi\\anaconda3\\lib\\site-packages (from ipykernel->jupyter) (6.4.1)\n",
      "Requirement already satisfied: traitlets>=5.4.0 in c:\\users\\agus soleh b khalimi\\anaconda3\\lib\\site-packages (from ipykernel->jupyter) (5.14.3)\n",
      "Requirement already satisfied: ipython-genutils~=0.2.0 in c:\\users\\agus soleh b khalimi\\anaconda3\\lib\\site-packages (from ipywidgets->jupyter) (0.2.0)\n",
      "Requirement already satisfied: widgetsnbextension~=3.6.6 in c:\\users\\agus soleh b khalimi\\anaconda3\\lib\\site-packages (from ipywidgets->jupyter) (3.6.6)\n",
      "Requirement already satisfied: jupyterlab-widgets<3,>=1.0.0 in c:\\users\\agus soleh b khalimi\\anaconda3\\lib\\site-packages (from ipywidgets->jupyter) (1.0.0)\n",
      "Requirement already satisfied: prompt-toolkit>=3.0.30 in c:\\users\\agus soleh b khalimi\\anaconda3\\lib\\site-packages (from jupyter-console->jupyter) (3.0.43)\n",
      "Requirement already satisfied: pygments in c:\\users\\agus soleh b khalimi\\anaconda3\\lib\\site-packages (from jupyter-console->jupyter) (2.15.1)\n",
      "Requirement already satisfied: beautifulsoup4 in c:\\users\\agus soleh b khalimi\\anaconda3\\lib\\site-packages (from nbconvert->jupyter) (4.12.3)\n",
      "Requirement already satisfied: bleach!=5.0.0 in c:\\users\\agus soleh b khalimi\\anaconda3\\lib\\site-packages (from nbconvert->jupyter) (4.1.0)\n",
      "Requirement already satisfied: defusedxml in c:\\users\\agus soleh b khalimi\\anaconda3\\lib\\site-packages (from nbconvert->jupyter) (0.7.1)\n",
      "Requirement already satisfied: jinja2>=3.0 in c:\\users\\agus soleh b khalimi\\anaconda3\\lib\\site-packages (from nbconvert->jupyter) (3.1.4)\n",
      "Requirement already satisfied: jupyterlab-pygments in c:\\users\\agus soleh b khalimi\\anaconda3\\lib\\site-packages (from nbconvert->jupyter) (0.1.2)\n",
      "Requirement already satisfied: markupsafe>=2.0 in c:\\users\\agus soleh b khalimi\\anaconda3\\lib\\site-packages (from nbconvert->jupyter) (2.1.3)\n",
      "Requirement already satisfied: mistune<4,>=2.0.3 in c:\\users\\agus soleh b khalimi\\anaconda3\\lib\\site-packages (from nbconvert->jupyter) (2.0.4)\n",
      "Requirement already satisfied: nbclient>=0.5.0 in c:\\users\\agus soleh b khalimi\\anaconda3\\lib\\site-packages (from nbconvert->jupyter) (0.8.0)\n",
      "Requirement already satisfied: nbformat>=5.7 in c:\\users\\agus soleh b khalimi\\anaconda3\\lib\\site-packages (from nbconvert->jupyter) (5.10.4)\n",
      "Requirement already satisfied: pandocfilters>=1.4.1 in c:\\users\\agus soleh b khalimi\\anaconda3\\lib\\site-packages (from nbconvert->jupyter) (1.5.0)\n",
      "Requirement already satisfied: tinycss2 in c:\\users\\agus soleh b khalimi\\anaconda3\\lib\\site-packages (from nbconvert->jupyter) (1.2.1)\n",
      "Requirement already satisfied: jupyter-server<3,>=2.4.0 in c:\\users\\agus soleh b khalimi\\anaconda3\\lib\\site-packages (from notebook->jupyter) (2.14.1)\n",
      "Requirement already satisfied: jupyterlab-server<3,>=2.27.1 in c:\\users\\agus soleh b khalimi\\anaconda3\\lib\\site-packages (from notebook->jupyter) (2.27.3)\n",
      "Requirement already satisfied: jupyterlab<4.3,>=4.2.0 in c:\\users\\agus soleh b khalimi\\anaconda3\\lib\\site-packages (from notebook->jupyter) (4.2.5)\n",
      "Requirement already satisfied: notebook-shim<0.3,>=0.2 in c:\\users\\agus soleh b khalimi\\anaconda3\\lib\\site-packages (from notebook->jupyter) (0.2.3)\n",
      "Requirement already satisfied: qtpy>=2.4.0 in c:\\users\\agus soleh b khalimi\\anaconda3\\lib\\site-packages (from qtconsole->jupyter) (2.4.1)\n",
      "Requirement already satisfied: webencodings in c:\\users\\agus soleh b khalimi\\anaconda3\\lib\\site-packages (from bleach!=5.0.0->nbconvert->jupyter) (0.5.1)\n",
      "Requirement already satisfied: decorator in c:\\users\\agus soleh b khalimi\\anaconda3\\lib\\site-packages (from ipython>=7.23.1->ipykernel->jupyter) (5.1.1)\n",
      "Requirement already satisfied: jedi>=0.16 in c:\\users\\agus soleh b khalimi\\anaconda3\\lib\\site-packages (from ipython>=7.23.1->ipykernel->jupyter) (0.19.1)\n",
      "Requirement already satisfied: stack-data in c:\\users\\agus soleh b khalimi\\anaconda3\\lib\\site-packages (from ipython>=7.23.1->ipykernel->jupyter) (0.2.0)\n",
      "Requirement already satisfied: colorama in c:\\users\\agus soleh b khalimi\\anaconda3\\lib\\site-packages (from ipython>=7.23.1->ipykernel->jupyter) (0.4.6)\n",
      "Requirement already satisfied: platformdirs>=2.5 in c:\\users\\agus soleh b khalimi\\anaconda3\\lib\\site-packages (from jupyter-core!=5.0.*,>=4.12->ipykernel->jupyter) (3.10.0)\n",
      "Requirement already satisfied: pywin32>=300 in c:\\users\\agus soleh b khalimi\\anaconda3\\lib\\site-packages (from jupyter-core!=5.0.*,>=4.12->ipykernel->jupyter) (305.1)\n",
      "Requirement already satisfied: anyio>=3.1.0 in c:\\users\\agus soleh b khalimi\\anaconda3\\lib\\site-packages (from jupyter-server<3,>=2.4.0->notebook->jupyter) (4.2.0)\n",
      "Requirement already satisfied: argon2-cffi>=21.1 in c:\\users\\agus soleh b khalimi\\anaconda3\\lib\\site-packages (from jupyter-server<3,>=2.4.0->notebook->jupyter) (21.3.0)\n",
      "Requirement already satisfied: jupyter-events>=0.9.0 in c:\\users\\agus soleh b khalimi\\anaconda3\\lib\\site-packages (from jupyter-server<3,>=2.4.0->notebook->jupyter) (0.10.0)\n",
      "Requirement already satisfied: jupyter-server-terminals>=0.4.4 in c:\\users\\agus soleh b khalimi\\anaconda3\\lib\\site-packages (from jupyter-server<3,>=2.4.0->notebook->jupyter) (0.4.4)\n",
      "Requirement already satisfied: overrides>=5.0 in c:\\users\\agus soleh b khalimi\\anaconda3\\lib\\site-packages (from jupyter-server<3,>=2.4.0->notebook->jupyter) (7.4.0)\n",
      "Requirement already satisfied: prometheus-client>=0.9 in c:\\users\\agus soleh b khalimi\\anaconda3\\lib\\site-packages (from jupyter-server<3,>=2.4.0->notebook->jupyter) (0.14.1)\n",
      "Requirement already satisfied: pywinpty>=2.0.1 in c:\\users\\agus soleh b khalimi\\anaconda3\\lib\\site-packages (from jupyter-server<3,>=2.4.0->notebook->jupyter) (2.0.10)\n",
      "Requirement already satisfied: send2trash>=1.8.2 in c:\\users\\agus soleh b khalimi\\anaconda3\\lib\\site-packages (from jupyter-server<3,>=2.4.0->notebook->jupyter) (1.8.2)\n",
      "Requirement already satisfied: terminado>=0.8.3 in c:\\users\\agus soleh b khalimi\\anaconda3\\lib\\site-packages (from jupyter-server<3,>=2.4.0->notebook->jupyter) (0.17.1)\n",
      "Requirement already satisfied: websocket-client>=1.7 in c:\\users\\agus soleh b khalimi\\anaconda3\\lib\\site-packages (from jupyter-server<3,>=2.4.0->notebook->jupyter) (1.8.0)\n",
      "Requirement already satisfied: async-lru>=1.0.0 in c:\\users\\agus soleh b khalimi\\anaconda3\\lib\\site-packages (from jupyterlab<4.3,>=4.2.0->notebook->jupyter) (2.0.4)\n",
      "Requirement already satisfied: httpx>=0.25.0 in c:\\users\\agus soleh b khalimi\\anaconda3\\lib\\site-packages (from jupyterlab<4.3,>=4.2.0->notebook->jupyter) (0.27.0)\n",
      "Requirement already satisfied: jupyter-lsp>=2.0.0 in c:\\users\\agus soleh b khalimi\\anaconda3\\lib\\site-packages (from jupyterlab<4.3,>=4.2.0->notebook->jupyter) (2.2.0)\n",
      "Requirement already satisfied: setuptools>=40.1.0 in c:\\users\\agus soleh b khalimi\\anaconda3\\lib\\site-packages (from jupyterlab<4.3,>=4.2.0->notebook->jupyter) (75.1.0)\n",
      "Requirement already satisfied: babel>=2.10 in c:\\users\\agus soleh b khalimi\\anaconda3\\lib\\site-packages (from jupyterlab-server<3,>=2.27.1->notebook->jupyter) (2.11.0)\n",
      "Requirement already satisfied: json5>=0.9.0 in c:\\users\\agus soleh b khalimi\\anaconda3\\lib\\site-packages (from jupyterlab-server<3,>=2.27.1->notebook->jupyter) (0.9.6)\n",
      "Requirement already satisfied: jsonschema>=4.18.0 in c:\\users\\agus soleh b khalimi\\anaconda3\\lib\\site-packages (from jupyterlab-server<3,>=2.27.1->notebook->jupyter) (4.23.0)\n",
      "Requirement already satisfied: requests>=2.31 in c:\\users\\agus soleh b khalimi\\anaconda3\\lib\\site-packages (from jupyterlab-server<3,>=2.27.1->notebook->jupyter) (2.32.3)\n",
      "Requirement already satisfied: fastjsonschema>=2.15 in c:\\users\\agus soleh b khalimi\\anaconda3\\lib\\site-packages (from nbformat>=5.7->nbconvert->jupyter) (2.16.2)\n",
      "Requirement already satisfied: wcwidth in c:\\users\\agus soleh b khalimi\\anaconda3\\lib\\site-packages (from prompt-toolkit>=3.0.30->jupyter-console->jupyter) (0.2.5)\n",
      "Requirement already satisfied: soupsieve>1.2 in c:\\users\\agus soleh b khalimi\\anaconda3\\lib\\site-packages (from beautifulsoup4->nbconvert->jupyter) (2.5)\n",
      "Requirement already satisfied: idna>=2.8 in c:\\users\\agus soleh b khalimi\\anaconda3\\lib\\site-packages (from anyio>=3.1.0->jupyter-server<3,>=2.4.0->notebook->jupyter) (3.7)\n",
      "Requirement already satisfied: sniffio>=1.1 in c:\\users\\agus soleh b khalimi\\anaconda3\\lib\\site-packages (from anyio>=3.1.0->jupyter-server<3,>=2.4.0->notebook->jupyter) (1.3.0)\n",
      "Requirement already satisfied: argon2-cffi-bindings in c:\\users\\agus soleh b khalimi\\anaconda3\\lib\\site-packages (from argon2-cffi>=21.1->jupyter-server<3,>=2.4.0->notebook->jupyter) (21.2.0)\n",
      "Requirement already satisfied: certifi in c:\\users\\agus soleh b khalimi\\anaconda3\\lib\\site-packages (from httpx>=0.25.0->jupyterlab<4.3,>=4.2.0->notebook->jupyter) (2024.12.14)\n",
      "Requirement already satisfied: httpcore==1.* in c:\\users\\agus soleh b khalimi\\anaconda3\\lib\\site-packages (from httpx>=0.25.0->jupyterlab<4.3,>=4.2.0->notebook->jupyter) (1.0.2)\n",
      "Requirement already satisfied: h11<0.15,>=0.13 in c:\\users\\agus soleh b khalimi\\anaconda3\\lib\\site-packages (from httpcore==1.*->httpx>=0.25.0->jupyterlab<4.3,>=4.2.0->notebook->jupyter) (0.14.0)\n",
      "Requirement already satisfied: parso<0.9.0,>=0.8.3 in c:\\users\\agus soleh b khalimi\\anaconda3\\lib\\site-packages (from jedi>=0.16->ipython>=7.23.1->ipykernel->jupyter) (0.8.3)\n",
      "Requirement already satisfied: attrs>=22.2.0 in c:\\users\\agus soleh b khalimi\\anaconda3\\lib\\site-packages (from jsonschema>=4.18.0->jupyterlab-server<3,>=2.27.1->notebook->jupyter) (23.1.0)\n",
      "Requirement already satisfied: jsonschema-specifications>=2023.03.6 in c:\\users\\agus soleh b khalimi\\anaconda3\\lib\\site-packages (from jsonschema>=4.18.0->jupyterlab-server<3,>=2.27.1->notebook->jupyter) (2023.7.1)\n",
      "Requirement already satisfied: referencing>=0.28.4 in c:\\users\\agus soleh b khalimi\\anaconda3\\lib\\site-packages (from jsonschema>=4.18.0->jupyterlab-server<3,>=2.27.1->notebook->jupyter) (0.30.2)\n",
      "Requirement already satisfied: rpds-py>=0.7.1 in c:\\users\\agus soleh b khalimi\\anaconda3\\lib\\site-packages (from jsonschema>=4.18.0->jupyterlab-server<3,>=2.27.1->notebook->jupyter) (0.10.6)\n",
      "Requirement already satisfied: python-json-logger>=2.0.4 in c:\\users\\agus soleh b khalimi\\anaconda3\\lib\\site-packages (from jupyter-events>=0.9.0->jupyter-server<3,>=2.4.0->notebook->jupyter) (2.0.7)\n",
      "Requirement already satisfied: pyyaml>=5.3 in c:\\users\\agus soleh b khalimi\\anaconda3\\lib\\site-packages (from jupyter-events>=0.9.0->jupyter-server<3,>=2.4.0->notebook->jupyter) (6.0.1)\n",
      "Requirement already satisfied: rfc3339-validator in c:\\users\\agus soleh b khalimi\\anaconda3\\lib\\site-packages (from jupyter-events>=0.9.0->jupyter-server<3,>=2.4.0->notebook->jupyter) (0.1.4)\n",
      "Requirement already satisfied: rfc3986-validator>=0.1.1 in c:\\users\\agus soleh b khalimi\\anaconda3\\lib\\site-packages (from jupyter-events>=0.9.0->jupyter-server<3,>=2.4.0->notebook->jupyter) (0.1.1)\n",
      "Requirement already satisfied: charset-normalizer<4,>=2 in c:\\users\\agus soleh b khalimi\\anaconda3\\lib\\site-packages (from requests>=2.31->jupyterlab-server<3,>=2.27.1->notebook->jupyter) (3.3.2)\n",
      "Requirement already satisfied: urllib3<3,>=1.21.1 in c:\\users\\agus soleh b khalimi\\anaconda3\\lib\\site-packages (from requests>=2.31->jupyterlab-server<3,>=2.27.1->notebook->jupyter) (2.2.3)\n",
      "Requirement already satisfied: executing in c:\\users\\agus soleh b khalimi\\anaconda3\\lib\\site-packages (from stack-data->ipython>=7.23.1->ipykernel->jupyter) (0.8.3)\n",
      "Requirement already satisfied: asttokens in c:\\users\\agus soleh b khalimi\\anaconda3\\lib\\site-packages (from stack-data->ipython>=7.23.1->ipykernel->jupyter) (2.0.5)\n",
      "Requirement already satisfied: pure-eval in c:\\users\\agus soleh b khalimi\\anaconda3\\lib\\site-packages (from stack-data->ipython>=7.23.1->ipykernel->jupyter) (0.2.2)\n",
      "Requirement already satisfied: fqdn in c:\\users\\agus soleh b khalimi\\anaconda3\\lib\\site-packages (from jsonschema[format-nongpl]>=4.18.0->jupyter-events>=0.9.0->jupyter-server<3,>=2.4.0->notebook->jupyter) (1.5.1)\n",
      "Requirement already satisfied: isoduration in c:\\users\\agus soleh b khalimi\\anaconda3\\lib\\site-packages (from jsonschema[format-nongpl]>=4.18.0->jupyter-events>=0.9.0->jupyter-server<3,>=2.4.0->notebook->jupyter) (20.11.0)\n",
      "Requirement already satisfied: jsonpointer>1.13 in c:\\users\\agus soleh b khalimi\\anaconda3\\lib\\site-packages (from jsonschema[format-nongpl]>=4.18.0->jupyter-events>=0.9.0->jupyter-server<3,>=2.4.0->notebook->jupyter) (2.1)\n",
      "Requirement already satisfied: uri-template in c:\\users\\agus soleh b khalimi\\anaconda3\\lib\\site-packages (from jsonschema[format-nongpl]>=4.18.0->jupyter-events>=0.9.0->jupyter-server<3,>=2.4.0->notebook->jupyter) (1.3.0)\n",
      "Requirement already satisfied: webcolors>=24.6.0 in c:\\users\\agus soleh b khalimi\\anaconda3\\lib\\site-packages (from jsonschema[format-nongpl]>=4.18.0->jupyter-events>=0.9.0->jupyter-server<3,>=2.4.0->notebook->jupyter) (24.11.1)\n",
      "Requirement already satisfied: cffi>=1.0.1 in c:\\users\\agus soleh b khalimi\\anaconda3\\lib\\site-packages (from argon2-cffi-bindings->argon2-cffi>=21.1->jupyter-server<3,>=2.4.0->notebook->jupyter) (1.17.1)\n",
      "Requirement already satisfied: pycparser in c:\\users\\agus soleh b khalimi\\anaconda3\\lib\\site-packages (from cffi>=1.0.1->argon2-cffi-bindings->argon2-cffi>=21.1->jupyter-server<3,>=2.4.0->notebook->jupyter) (2.21)\n",
      "Requirement already satisfied: arrow>=0.15.0 in c:\\users\\agus soleh b khalimi\\anaconda3\\lib\\site-packages (from isoduration->jsonschema[format-nongpl]>=4.18.0->jupyter-events>=0.9.0->jupyter-server<3,>=2.4.0->notebook->jupyter) (1.2.3)\n"
     ]
    }
   ],
   "source": [
    "# Langkah 1: Persiapan Awal (Setup Environment & Tools)\n",
    "# Buat environment virtual baru (opsional tapi disarankan)\n",
    "#python -m venv titanic-env\n",
    "\n",
    "# Aktifkan environment virtual\n",
    "# Pada Windows:\n",
    "#titanic-env\\Scripts\\activate\n",
    "# Pada macOS/Linux:\n",
    "#source titanic-env/bin/activate\n",
    "\n",
    "# Install library yang diperlukan\n",
    "!pip install pandas numpy matplotlib seaborn jupyter\n",
    "\n",
    "# Unduh dataset Titanic (train.csv) dari sumber seperti Kaggle:\n",
    "# https://www.kaggle.com/c/titanic/data\n",
    "# Simpan file 'train.csv' di folder project Anda."
   ]
  },
  {
   "cell_type": "code",
   "execution_count": 4,
   "id": "3175baeb-6935-48fd-a1f8-82a815cd8934",
   "metadata": {},
   "outputs": [],
   "source": [
    "# Langkah 2: Memuat Data dan Eksplorasi Awal (Exploratory Data Analysis - EDA)\n",
    "# Import library yang diperlukan\n",
    "import pandas as pd\n",
    "import numpy as np\n",
    "import matplotlib.pyplot as plt\n",
    "import seaborn as sns\n",
    "\n",
    "# Muat dataset\n",
    "df = pd.read_csv('trainTitanic.csv')"
   ]
  },
  {
   "cell_type": "code",
   "execution_count": 5,
   "id": "bd37ba56-0922-4097-889c-b897c811e0e9",
   "metadata": {},
   "outputs": [
    {
     "name": "stdout",
     "output_type": "stream",
     "text": [
      "   PassengerId  Survived  Pclass  \\\n",
      "0            1         0       3   \n",
      "1            2         1       1   \n",
      "2            3         1       3   \n",
      "3            4         1       1   \n",
      "4            5         0       3   \n",
      "\n",
      "                                                Name     Sex   Age  SibSp  \\\n",
      "0                            Braund, Mr. Owen Harris    male  22.0      1   \n",
      "1  Cumings, Mrs. John Bradley (Florence Briggs Th...  female  38.0      1   \n",
      "2                             Heikkinen, Miss. Laina  female  26.0      0   \n",
      "3       Futrelle, Mrs. Jacques Heath (Lily May Peel)  female  35.0      1   \n",
      "4                           Allen, Mr. William Henry    male  35.0      0   \n",
      "\n",
      "   Parch            Ticket     Fare Cabin Embarked  \n",
      "0      0         A/5 21171   7.2500   NaN        S  \n",
      "1      0          PC 17599  71.2833   C85        C  \n",
      "2      0  STON/O2. 3101282   7.9250   NaN        S  \n",
      "3      0            113803  53.1000  C123        S  \n",
      "4      0            373450   8.0500   NaN        S  \n"
     ]
    }
   ],
   "source": [
    "# 1. Lihat 5 baris pertama data\n",
    "print(df.head())"
   ]
  },
  {
   "cell_type": "code",
   "execution_count": 6,
   "id": "a66d440f-f211-4310-ac79-ec2b83748a1d",
   "metadata": {},
   "outputs": [
    {
     "name": "stdout",
     "output_type": "stream",
     "text": [
      "<class 'pandas.core.frame.DataFrame'>\n",
      "RangeIndex: 891 entries, 0 to 890\n",
      "Data columns (total 12 columns):\n",
      " #   Column       Non-Null Count  Dtype  \n",
      "---  ------       --------------  -----  \n",
      " 0   PassengerId  891 non-null    int64  \n",
      " 1   Survived     891 non-null    int64  \n",
      " 2   Pclass       891 non-null    int64  \n",
      " 3   Name         891 non-null    object \n",
      " 4   Sex          891 non-null    object \n",
      " 5   Age          714 non-null    float64\n",
      " 6   SibSp        891 non-null    int64  \n",
      " 7   Parch        891 non-null    int64  \n",
      " 8   Ticket       891 non-null    object \n",
      " 9   Fare         891 non-null    float64\n",
      " 10  Cabin        204 non-null    object \n",
      " 11  Embarked     889 non-null    object \n",
      "dtypes: float64(2), int64(5), object(5)\n",
      "memory usage: 83.7+ KB\n",
      "None\n"
     ]
    }
   ],
   "source": [
    "# 2. Dapatkan informasi umum tentang DataFrame: jumlah entri, tipe data, nilai non-null\n",
    "print(df.info())"
   ]
  },
  {
   "cell_type": "code",
   "execution_count": 7,
   "id": "c702691d-44e3-4b54-b33b-6e7a68a0e4f5",
   "metadata": {},
   "outputs": [
    {
     "name": "stdout",
     "output_type": "stream",
     "text": [
      "       PassengerId    Survived      Pclass         Age       SibSp  \\\n",
      "count   891.000000  891.000000  891.000000  714.000000  891.000000   \n",
      "mean    446.000000    0.383838    2.308642   29.699118    0.523008   \n",
      "std     257.353842    0.486592    0.836071   14.526497    1.102743   \n",
      "min       1.000000    0.000000    1.000000    0.420000    0.000000   \n",
      "25%     223.500000    0.000000    2.000000   20.125000    0.000000   \n",
      "50%     446.000000    0.000000    3.000000   28.000000    0.000000   \n",
      "75%     668.500000    1.000000    3.000000   38.000000    1.000000   \n",
      "max     891.000000    1.000000    3.000000   80.000000    8.000000   \n",
      "\n",
      "            Parch        Fare  \n",
      "count  891.000000  891.000000  \n",
      "mean     0.381594   32.204208  \n",
      "std      0.806057   49.693429  \n",
      "min      0.000000    0.000000  \n",
      "25%      0.000000    7.910400  \n",
      "50%      0.000000   14.454200  \n",
      "75%      0.000000   31.000000  \n",
      "max      6.000000  512.329200  \n"
     ]
    }
   ],
   "source": [
    "# 3. Dapatkan statistik deskriptif untuk kolom numerik\n",
    "print(df.describe())"
   ]
  },
  {
   "cell_type": "code",
   "execution_count": 8,
   "id": "265f22cd-17a0-4d4b-8e3e-bde76d021654",
   "metadata": {},
   "outputs": [
    {
     "name": "stdout",
     "output_type": "stream",
     "text": [
      "PassengerId      0\n",
      "Survived         0\n",
      "Pclass           0\n",
      "Name             0\n",
      "Sex              0\n",
      "Age            177\n",
      "SibSp            0\n",
      "Parch            0\n",
      "Ticket           0\n",
      "Fare             0\n",
      "Cabin          687\n",
      "Embarked         2\n",
      "dtype: int64\n"
     ]
    }
   ],
   "source": [
    "# 4. Periksa jumlah nilai yang hilang (missing values) per kolom\n",
    "print(df.isnull().sum())"
   ]
  },
  {
   "cell_type": "code",
   "execution_count": 9,
   "id": "588ab8df-1264-4eb8-b0e5-612d15b67c51",
   "metadata": {},
   "outputs": [],
   "source": [
    "# Langkah 3: Penanganan Nilai yang Hilang (Missing Values)\n",
    "# 1. Tangani 'Age': Isi nilai yang hilang dengan median usia\n",
    "# Median lebih robust terhadap outlier dibanding mean\n",
    "df['Age'] = df['Age'].fillna(df['Age'].median())"
   ]
  },
  {
   "cell_type": "code",
   "execution_count": 10,
   "id": "d03248ea-eca3-4929-96cd-c6087d671795",
   "metadata": {},
   "outputs": [],
   "source": [
    "# 2. Tangani 'Embarked': Ini adalah data kategorikal. Isi dengan modus (nilai yang paling sering muncul)\n",
    "mode_embarked = df['Embarked'].mode()[0]\n",
    "df['Embarked'] = df['Embarked'].fillna(mode_embarked)"
   ]
  },
  {
   "cell_type": "code",
   "execution_count": 12,
   "id": "10bf428b-8609-4a09-bdab-1ca40709575a",
   "metadata": {},
   "outputs": [],
   "source": [
    "# 3. Tangani 'Cabin': Terlalu banyak nilai yang hilang. Kita akan membuat fitur baru 'Has_Cabin'\n",
    "df['Has_Cabin'] = df['Cabin'].notnull().astype(int)\n",
    "# Lalu drop kolom 'Cabin' asli karena tidak bisa diandalkan\n",
    "#df.drop('Cabin', axis=1, inplace=True)"
   ]
  },
  {
   "cell_type": "code",
   "execution_count": 16,
   "id": "496d0111-e0c1-49fc-82c2-261fdabda927",
   "metadata": {},
   "outputs": [
    {
     "name": "stdout",
     "output_type": "stream",
     "text": [
      "Index(['PassengerId', 'Survived', 'Pclass', 'Name', 'Sex', 'Age', 'SibSp',\n",
      "       'Parch', 'Ticket', 'Fare', 'Cabin', 'Embarked', 'Has_Cabin'],\n",
      "      dtype='object')\n"
     ]
    }
   ],
   "source": [
    "# Lihat kolom dataframe\n",
    "print(df.columns)"
   ]
  },
  {
   "cell_type": "code",
   "execution_count": 18,
   "id": "55b6b004-222b-42be-8ed4-1c42ea882db1",
   "metadata": {},
   "outputs": [],
   "source": [
    "# Cara aman (hindari error kalau Cabin tidak ada):\n",
    "if 'Cabin' in df.columns:\n",
    "    df['Has_Cabin'] = df['Cabin'].notnull().astype(int)\n",
    "    df.drop('Cabin', axis=1, inplace=True)\n",
    "else:\n",
    "    print(\"Kolom 'Cabin' tidak ada di dataset\")"
   ]
  },
  {
   "cell_type": "code",
   "execution_count": 22,
   "id": "626ea2ea-c8f2-47b9-ae39-151b18bc2719",
   "metadata": {},
   "outputs": [],
   "source": [
    "# Langkah 4: Feature Engineering dan Transformasi Data\n",
    "# 1. Ekstrak gelar (Title) dari kolom 'Name'\n",
    "df['Title'] = df['Name'].str.extract(r' ([A-Za-z]+)\\.', expand=False)\n",
    "\n",
    "# Group gelar yang tidak umum ke dalam kategori 'Rare'\n",
    "df['Title'] = df['Title'].replace(['Lady', 'Countess','Capt', 'Col', 'Don', 'Dr', 'Major', 'Rev', 'Sir', 'Jonkheer', 'Dona'], 'Rare')\n",
    "df['Title'] = df['Title'].replace('Mlle', 'Miss')\n",
    "df['Title'] = df['Title'].replace('Ms', 'Miss')\n",
    "df['Title'] = df['Title'].replace('Mme', 'Mrs')"
   ]
  },
  {
   "cell_type": "code",
   "execution_count": 24,
   "id": "1d3c40a4-5fc1-40a2-a3c9-281529dd7bf7",
   "metadata": {},
   "outputs": [],
   "source": [
    "# 2. Buat fitur 'FamilySize' dan 'IsAlone' dari 'SibSp' dan 'Parch'\n",
    "df['FamilySize'] = df['SibSp'] + df['Parch'] + 1\n",
    "df['IsAlone'] = 0\n",
    "df.loc[df['FamilySize'] == 1, 'IsAlone'] = 1"
   ]
  },
  {
   "cell_type": "code",
   "execution_count": 26,
   "id": "da67acb3-a4d3-459a-9266-c0a27edacde2",
   "metadata": {},
   "outputs": [],
   "source": [
    "# 3. Kelompokkan usia ke dalam beberapa bin (kelompok)\n",
    "df['AgeBand'] = pd.cut(df['Age'], 5) # Membagi usia menjadi 5 kelompok yang lebarnya sama\n",
    "# Atau gunakan qcut untuk kelompok berdasarkan kuantil\n",
    "# df['AgeBand'] = pd.qcut(df['Age'], 4) # 4 kelompok, masing-masing berisi 25% data"
   ]
  },
  {
   "cell_type": "code",
   "execution_count": 28,
   "id": "ac66db2c-2577-4bdd-b1c7-55e71f1dd223",
   "metadata": {},
   "outputs": [],
   "source": [
    "# 4. Map data kategorikal ('Sex', 'Embarked', 'Title') ke nilai numerik\n",
    "df['Sex'] = df['Sex'].map( {'female': 0, 'male': 1} ).astype(int)\n",
    "title_mapping = {\"Mr\": 1, \"Miss\": 2, \"Mrs\": 3, \"Master\": 4, \"Rare\": 5}\n",
    "df['Title'] = df['Title'].map(title_mapping)\n",
    "df['Embarked'] = df['Embarked'].map( {'S': 0, 'C': 1, 'Q': 2} ).astype(int)"
   ]
  },
  {
   "cell_type": "code",
   "execution_count": 30,
   "id": "1f13868a-d43c-4d3a-850e-843f7e00529a",
   "metadata": {},
   "outputs": [],
   "source": [
    "# 5. Drop kolom yang sudah tidak diperlukan untuk pemodelan\n",
    "# Kolom seperti 'Name', 'Ticket', 'PassengerId', 'AgeBand' (jika hanya untuk grouping) bisa di-drop\n",
    "# 'AgeBand' contohnya menghasilkan interval, yang mungkin perlu di-encode juga.\n",
    "df.drop(['Name', 'Ticket', 'PassengerId'], axis=1, inplace=True)\n",
    "# Pilihan: Drop 'SibSp', 'Parch', 'FamilySize' jika sudah menggunakan 'IsAlone'\n",
    "# df.drop(['SibSp', 'Parch', 'FamilySize'], axis=1, inplace=True)"
   ]
  },
  {
   "cell_type": "code",
   "execution_count": 32,
   "id": "f5cf01b7-cf58-478b-b9e4-3d68d00f9338",
   "metadata": {},
   "outputs": [
    {
     "name": "stdout",
     "output_type": "stream",
     "text": [
      "   Survived  Pclass  Sex   Age  SibSp  Parch     Fare  Embarked  Has_Cabin  \\\n",
      "0         0       3    1  22.0      1      0   7.2500         0          0   \n",
      "1         1       1    0  38.0      1      0  71.2833         1          1   \n",
      "2         1       3    0  26.0      0      0   7.9250         0          0   \n",
      "3         1       1    0  35.0      1      0  53.1000         0          1   \n",
      "4         0       3    1  35.0      0      0   8.0500         0          0   \n",
      "5         0       3    1  28.0      0      0   8.4583         2          0   \n",
      "6         0       1    1  54.0      0      0  51.8625         0          1   \n",
      "7         0       3    1   2.0      3      1  21.0750         0          0   \n",
      "8         1       3    0  27.0      0      2  11.1333         0          0   \n",
      "9         1       2    0  14.0      1      0  30.0708         1          0   \n",
      "\n",
      "   Title  FamilySize  IsAlone           AgeBand  \n",
      "0      1           2        0  (16.336, 32.252]  \n",
      "1      3           2        0  (32.252, 48.168]  \n",
      "2      2           1        1  (16.336, 32.252]  \n",
      "3      3           2        0  (32.252, 48.168]  \n",
      "4      1           1        1  (32.252, 48.168]  \n",
      "5      1           1        1  (16.336, 32.252]  \n",
      "6      1           1        1  (48.168, 64.084]  \n",
      "7      4           5        0    (0.34, 16.336]  \n",
      "8      3           3        0  (16.336, 32.252]  \n",
      "9      3           2        0    (0.34, 16.336]  \n",
      "<class 'pandas.core.frame.DataFrame'>\n",
      "RangeIndex: 891 entries, 0 to 890\n",
      "Data columns (total 13 columns):\n",
      " #   Column      Non-Null Count  Dtype   \n",
      "---  ------      --------------  -----   \n",
      " 0   Survived    891 non-null    int64   \n",
      " 1   Pclass      891 non-null    int64   \n",
      " 2   Sex         891 non-null    int32   \n",
      " 3   Age         891 non-null    float64 \n",
      " 4   SibSp       891 non-null    int64   \n",
      " 5   Parch       891 non-null    int64   \n",
      " 6   Fare        891 non-null    float64 \n",
      " 7   Embarked    891 non-null    int32   \n",
      " 8   Has_Cabin   891 non-null    int32   \n",
      " 9   Title       891 non-null    int64   \n",
      " 10  FamilySize  891 non-null    int64   \n",
      " 11  IsAlone     891 non-null    int64   \n",
      " 12  AgeBand     891 non-null    category\n",
      "dtypes: category(1), float64(2), int32(3), int64(7)\n",
      "memory usage: 74.3 KB\n",
      "None\n"
     ]
    }
   ],
   "source": [
    "# Lihat DataFrame akhir\n",
    "print(df.head(10))\n",
    "print(df.info())"
   ]
  },
  {
   "cell_type": "code",
   "execution_count": 34,
   "id": "2d1b7a8a-6670-45d3-bcda-44683c16c46f",
   "metadata": {},
   "outputs": [],
   "source": [
    "#Selesai"
   ]
  }
 ],
 "metadata": {
  "kernelspec": {
   "display_name": "Python [conda env:base] *",
   "language": "python",
   "name": "conda-base-py"
  },
  "language_info": {
   "codemirror_mode": {
    "name": "ipython",
    "version": 3
   },
   "file_extension": ".py",
   "mimetype": "text/x-python",
   "name": "python",
   "nbconvert_exporter": "python",
   "pygments_lexer": "ipython3",
   "version": "3.12.7"
  }
 },
 "nbformat": 4,
 "nbformat_minor": 5
}
